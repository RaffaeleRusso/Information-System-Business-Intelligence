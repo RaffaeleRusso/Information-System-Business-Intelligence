{
 "cells": [
  {
   "cell_type": "markdown",
   "metadata": {},
   "source": [
    "# CONFRONTO TRAFFICO"
   ]
  },
  {
   "cell_type": "code",
   "execution_count": null,
   "metadata": {},
   "outputs": [],
   "source": [
    "import pandas as pd\n",
    "TO=pd.read_csv(\"DatasetProcessed/Traffico_OLD.csv\",sep=\";\")\n",
    "TN=pd.read_csv(\"DatasetProcessed/Traffico_NEW.csv\",sep=\";\")"
   ]
  },
  {
   "cell_type": "markdown",
   "metadata": {},
   "source": [
    "['Numero animale', 'Nome gruppo', 'Data/Ora', 'Area precedente',\n",
    "       'Tempo nell'area (hh:mm)', 'Nome dispositivo', 'Risultato',\n",
    "       'Decisione cancello', 'Intervallo Mungitura',\n",
    "       'Capezzoli non completamente munti', 'Ore', 'Minuti', 'OreTotali',\n",
    "       'Data', 'Tempo', 'Mese', 'Anno', 'Mese Anno', 'PD', 'AD', 'PS', 'AS'],"
   ]
  },
  {
   "cell_type": "code",
   "execution_count": null,
   "metadata": {},
   "outputs": [],
   "source": [
    "TO_static=TO.groupby(\"Mese Anno\").sum()\n",
    "TO_static=TO_static.iloc[:-1,:]\n",
    "TO_static.drop(\"Decisione cancello\",axis=1,inplace=True)\n",
    "TO_static[\"Totale capezzoli non munti\"]= TO_static[\"PS\"]+TO_static[\"PD\"]+TO_static[\"AS\"]+TO_static[\"AD\"]\n",
    "TO_static[\"Tempo nell'area (h)\"]=TO_static[\"Ore\"]+(TO_static[\"Minuti\"]/60)\n",
    "TO_static[\"Tempo nell'area (h)\"]=TO_static[\"Tempo nell'area (h)\"].astype(\"int64\",)\n",
    "A=[\"Ore\",\"Minuti\"]\n",
    "TO_static['Somma animali']=(TO.groupby(\"Mese Anno\").count())['Numero animale']\n",
    "TO_static.drop(A,axis=1,inplace=True)"
   ]
  },
  {
   "cell_type": "code",
   "execution_count": null,
   "metadata": {},
   "outputs": [],
   "source": [
    "TO_static.to_excel(\"Traffico_sta.xlsx\")"
   ]
  },
  {
   "cell_type": "code",
   "execution_count": null,
   "metadata": {},
   "outputs": [],
   "source": [
    "TN_static=TN.groupby(\"Mese Anno\").sum()\n",
    "TN_static=TN_static.iloc[:-1,:]\n",
    "#TN_static.drop(\"Decisione cancello\",axis=1,inplace=True)\n",
    "TN_static[\"Totale capezzoli non munti\"]= TN_static[\"PS\"]+TN_static[\"PD\"]+TN_static[\"AS\"]+TN_static[\"AD\"]\n",
    "TN_static[\"Tempo nell'area (h)\"]=TN_static[\"Ore\"]+(TN_static[\"Minuti\"]/60)\n",
    "TN_static[\"Tempo nell'area (h)\"]=TN_static[\"Tempo nell'area (h)\"].astype(\"int64\",)\n",
    "A=[\"Ore\",\"Minuti\"]\n",
    "TN_static.drop(A,axis=1,inplace=True)\n",
    "TN_static['Somma animali']=(TN.groupby(\"Mese Anno\").count())['Numero animale']\n",
    "TN_static"
   ]
  },
  {
   "cell_type": "code",
   "execution_count": null,
   "metadata": {},
   "outputs": [],
   "source": [
    "TN_static.to_excel(\"Traffico2_sta.xlsx\")"
   ]
  },
  {
   "cell_type": "code",
   "execution_count": null,
   "metadata": {},
   "outputs": [],
   "source": [
    "display(TO_static.mean())\n",
    "display(TN_static.mean())"
   ]
  },
  {
   "cell_type": "code",
   "execution_count": null,
   "metadata": {},
   "outputs": [],
   "source": [
    "TU=pd.concat([TN, TO], ignore_index=True, sort=False)\n",
    "TU_static=TU.groupby(\"Mese Anno\").sum()\n",
    "TU_static=TU_static.iloc[:-1,:]\n",
    "#TU_static.drop(\"Decisione cancello\",axis=1,inplace=True)\n",
    "TU_static[\"Totale capezzoli non munti\"]= TU_static[\"PS\"]+TU_static[\"PD\"]+TU_static[\"AS\"]+TU_static[\"AD\"]\n",
    "TU_static[\"Tempo nell'area (h)\"]=TU_static[\"Ore\"]+(TU_static[\"Minuti\"]/60)\n",
    "TU_static[\"Tempo nell'area (h)\"]=TU_static[\"Tempo nell'area (h)\"].astype(\"int64\",)\n",
    "A=[\"Ore\",\"Minuti\"]\n",
    "TU_static.drop(A,axis=1,inplace=True)\n",
    "TU_static['Somma animali']=(TU.groupby(\"Mese Anno\").count())['Numero animale']\n",
    "TU_static"
   ]
  },
  {
   "cell_type": "code",
   "execution_count": null,
   "metadata": {},
   "outputs": [],
   "source": [
    "TU.to_csv(\"DatasetProcessed/Traffico_Unito_New_Old.csv\",index=False,sep=';',decimal=',')"
   ]
  },
  {
   "cell_type": "code",
   "execution_count": null,
   "metadata": {},
   "outputs": [],
   "source": [
    "TU"
   ]
  },
  {
   "cell_type": "code",
   "execution_count": null,
   "metadata": {},
   "outputs": [],
   "source": []
  },
  {
   "cell_type": "markdown",
   "metadata": {},
   "source": [
    "# CONFRONTO EVENTI"
   ]
  },
  {
   "cell_type": "code",
   "execution_count": null,
   "metadata": {},
   "outputs": [],
   "source": [
    "import pandas as pd\n",
    "EO=pd.read_csv(\"DatasetProcessed/Eventi_OLD.csv\",sep=\";\",decimal=\",\")\n",
    "EN=pd.read_csv(\"DatasetProcessed/Eventi_NEW.csv\",sep=\";\",decimal=\",\")"
   ]
  },
  {
   "cell_type": "code",
   "execution_count": null,
   "metadata": {},
   "outputs": [],
   "source": [
    "EO.columns\n",
    "A=['Data evento', 'Descrizione',\n",
    "       'Data uscita',  'Data', 'Mese', 'Anno']\n",
    "\n",
    "B=['Numero animale', 'Gruppo', 'Tipo', 'Utente','Tempo', 'Mese Anno']\n",
    "EO.drop(A,axis=1,inplace=True)\n",
    "EN.drop(A,axis=1,inplace=True)\n",
    "EO.columns"
   ]
  },
  {
   "cell_type": "code",
   "execution_count": null,
   "metadata": {},
   "outputs": [],
   "source": [
    "EO_stat=pd.DataFrame()\n",
    "EO_static=EO.groupby(\"Mese Anno\").count()\n",
    "EO_static"
   ]
  },
  {
   "cell_type": "code",
   "execution_count": null,
   "metadata": {},
   "outputs": [],
   "source": [
    "EN[\"Tipo\"]"
   ]
  },
  {
   "cell_type": "code",
   "execution_count": null,
   "metadata": {},
   "outputs": [],
   "source": [
    "EN_static1=(EN.groupby(\"Mese Anno\").nunique()).iloc[:,:-1]\n",
    "#print(EN_static1)#statistiche conteggi unici\n",
    "EN_static2=EN.groupby(\"Mese Anno\").count().iloc[:,:]\n",
    "A=[\"\",\"\",\"Tempo\"]\n",
    "print(EN_static2)#statistiche conteggi somme"
   ]
  },
  {
   "cell_type": "markdown",
   "metadata": {},
   "source": [
    "# Mungitura"
   ]
  },
  {
   "cell_type": "code",
   "execution_count": 1,
   "metadata": {},
   "outputs": [
    {
     "name": "stderr",
     "output_type": "stream",
     "text": [
      "C:\\Users\\digig\\AppData\\Local\\Temp\\ipykernel_7388\\2029633669.py:3: DtypeWarning: Columns (26) have mixed types. Specify dtype option on import or set low_memory=False.\n",
      "  MN=pd.read_csv(\"DatasetProcessed/Mungitura_NEW.csv\",sep=\";\",decimal=\",\")\n"
     ]
    }
   ],
   "source": [
    "import pandas as pd\n",
    "MO=pd.read_csv(\"DatasetProcessed/Mungitura_OLD.csv\",sep=\";\",decimal=\",\")\n",
    "MN=pd.read_csv(\"DatasetProcessed/Mungitura_NEW.csv\",sep=\";\",decimal=\",\")"
   ]
  },
  {
   "cell_type": "code",
   "execution_count": 2,
   "metadata": {},
   "outputs": [
    {
     "data": {
      "text/plain": [
       "Index(['Ora inizio', 'Numero animale', 'Gruppo', 'MS/MP', 'Azione',\n",
       "       'Durata (MM:SS)', 'Produzione (kg)', 'Numero mungitura',\n",
       "       'OCC(*1000 Cell/ml)', 'Kick-off', 'Incompleto', 'Capezzoli non trovati',\n",
       "       'Mammella', 'Capezzolo', 'Flusso AS', 'Flusso AD', 'Flusso PS',\n",
       "       'Flusso PD', 'Sangue AS', 'Sangue AD', 'Sangue PS', 'Sangue PD',\n",
       "       'Conducibilità AS', 'Conducibilità AD', 'Conducibilità PS',\n",
       "       'Conducibilità PD', 'Utente', 'Destinazione latte',\n",
       "       'Motivo separazione', 'PicchiFlusso AS', 'PicchiFlusso AD',\n",
       "       'PicchiFlusso PS', 'PicchiFlusso PD', 'Produzione AS', 'Produzione AD',\n",
       "       'Produzione PS', 'Produzione PD', 'Minuti', 'Secondi', 'MinutiTotali',\n",
       "       'Data', 'Tempo', 'Mese', 'Anno', 'Mese Anno', 'Kick-offPD',\n",
       "       'Kick-offAD', 'Kick-offPS', 'Kick-offAS', 'IncompletoPD',\n",
       "       'IncompletoAD', 'IncompletoPS', 'IncompletoAS',\n",
       "       'Capezzoli non trovatiPD', 'Capezzoli non trovatiAD',\n",
       "       'Capezzoli non trovatiPS', 'Capezzoli non trovatiAS', 'CapezzoloPD',\n",
       "       'CapezzoloAD', 'CapezzoloPS', 'CapezzoloAS'],\n",
       "      dtype='object')"
      ]
     },
     "execution_count": 2,
     "metadata": {},
     "output_type": "execute_result"
    }
   ],
   "source": [
    "MN.columns"
   ]
  },
  {
   "cell_type": "code",
   "execution_count": 3,
   "metadata": {},
   "outputs": [],
   "source": [
    "MU=pd.concat([MO, MN], ignore_index=True, sort=False)\n",
    "\n",
    "B=['Minuti', 'Secondi','OCC(*1000 Cell/ml)', 'Kick-off', 'Incompleto', 'Capezzoli non trovati',\n",
    "       'Mammella', 'Capezzolo', ]\n",
    "\n",
    "\n",
    "A= ['Ora inizio', 'Numero animale', 'Gruppo', 'MS/MP', 'Azione',\n",
    "       'Durata (MM:SS)', 'Produzione (kg)', 'Numero mungitura',\n",
    "       \n",
    "       'Utente', 'Destinazione latte',\n",
    "       'Motivo separazione', \n",
    "       \n",
    "       'MinutiTotali',\n",
    "       'Data', 'Tempo', 'Mese', 'Anno', 'Mese Anno', \n",
    "\n",
    "       'PicchiFlusso AS', 'PicchiFlusso AD','PicchiFlusso PS', 'PicchiFlusso PD', \n",
    "       'Produzione AS', 'Produzione AD','Produzione PS', 'Produzione PD',      \n",
    "       'Flusso AS', 'Flusso AD', 'Flusso PS','Flusso PD', \n",
    "       'Sangue AS', 'Sangue AD', 'Sangue PS', 'Sangue PD',\n",
    "       'Conducibilità AS', 'Conducibilità AD', 'Conducibilità PS', 'Conducibilità PD', \n",
    "       'Kick-offPD','Kick-offAD', 'Kick-offPS', 'Kick-offAS',\n",
    "       'IncompletoPD', 'IncompletoAD', 'IncompletoPS', 'IncompletoAS',\n",
    "       'Capezzoli non trovatiPD', 'Capezzoli non trovatiAD', 'Capezzoli non trovatiPS', 'Capezzoli non trovatiAS', \n",
    "       'CapezzoloPD','CapezzoloAD', 'CapezzoloPS', 'CapezzoloAS']\n",
    "MU.drop(B,axis=1 ,inplace=True)"
   ]
  },
  {
   "cell_type": "code",
   "execution_count": 13,
   "metadata": {},
   "outputs": [],
   "source": [
    "MU_stat=MU.groupby([\"Anno\",\"Mese\"]).nunique()\n",
    "Anim_per_mese_uniq=MU_stat[\"Numero animale\"]\n",
    "MU_stat=MU.groupby([\"Anno\",\"Mese\"]).count()\n",
    "Anim_per_mese_sum=MU_stat[\"Numero animale\"]\n",
    "MU_stat=(MU.groupby([\"Anno\",\"Mese\"]).sum()).iloc[:,1:]\n",
    "MU_stat.to_excel(\"Mungitura_stats.xlsx\")\n"
   ]
  },
  {
   "cell_type": "code",
   "execution_count": 16,
   "metadata": {},
   "outputs": [],
   "source": [
    "animali_mese=pd.DataFrame()\n",
    "animali_mese[\"Unici\"]=Anim_per_mese_uniq\n",
    "animali_mese[\"Totali\"]=Anim_per_mese_sum\n",
    "animali_mese[\"Totali\"]=animali_mese[\"Totali\"].astype(\"int\")\n",
    "animali_mese\n",
    "animali_mese.to_excel(\"anim_mesi.xlsx\")"
   ]
  },
  {
   "cell_type": "markdown",
   "metadata": {},
   "source": [
    "# BOOO"
   ]
  },
  {
   "cell_type": "code",
   "execution_count": null,
   "metadata": {},
   "outputs": [],
   "source": [
    "MO1=MO\n",
    "#MO1[\"MinutiTotali\"]=MO1[\"MinutiTotali\"].replace(\",\",\".\",inplace=True)\n",
    "#MO1[\"MinutiTotali\"].replace(None,\"0\",inplace=True)\n",
    "for i,k in MO1.iterrows():\n",
    "        if k[\"MinutiTotali\"] is not None:\n",
    "                print(k[\"MinutiTotali\"])\n",
    "        if k[\"MinutiTotali\"] is None:\n",
    "                k[\"MinutiTotali\"]=\"0\"\n",
    "        #print(i)\n",
    "#MO1[\"MinutiTotali\"]"
   ]
  },
  {
   "cell_type": "code",
   "execution_count": null,
   "metadata": {},
   "outputs": [],
   "source": [
    "MO1[\"MinutiTotali\"]"
   ]
  },
  {
   "cell_type": "code",
   "execution_count": null,
   "metadata": {},
   "outputs": [],
   "source": [
    "MO1=MO\n",
    "MO1_static1=MO1.groupby(\"Mese Anno\").sum()\n",
    "#MO1[\"MinutiTotali\"]=MO1[\"MinutiTotali\"].replace(\",\",\".\",inplace=True)\n",
    "#MO1[\"MinutiTotali\"]=MO1[\"MinutiTotali\"].astype(\"int\")\n",
    "print(MO1[\"MinutiTotali\"])\n",
    "A=[ 'Produzione (kg)','Flusso AS', 'Flusso AD', 'Flusso PS',\n",
    "       'Flusso PD', 'Sangue AS', 'Sangue AD', 'Sangue PS', 'Sangue PD',\n",
    "       'Conducibilità AS', 'Conducibilità AD', 'Conducibilità PS',\n",
    "       'Conducibilità PD', 'PicchiFlusso AS', 'PicchiFlusso AD',\n",
    "       'PicchiFlusso PS', 'PicchiFlusso PD', 'Produzione AS', 'Produzione AD',\n",
    "       'Produzione PS', 'Produzione PD', 'MinutiTotali', 'Kick-offPD',\n",
    "       'Kick-offAD', 'Kick-offPS', 'Kick-offAS', 'IncompletoPD',\n",
    "       'IncompletoAD', 'IncompletoPS', 'IncompletoAS',\n",
    "       'Capezzoli non trovatiPD', 'Capezzoli non trovatiAD',\n",
    "       'Capezzoli non trovatiPS', 'Capezzoli non trovatiAS', 'CapezzoloPD',\n",
    "       'CapezzoloAD', 'CapezzoloPS', 'CapezzoloAS']\n",
    "\n",
    "A=['Ora inizio', 'Numero animale', 'Gruppo', 'MS/MP', 'Azione',\n",
    "       'Durata (MM:SS)', 'Produzione (kg)', 'Numero mungitura',\n",
    "       'OCC(*1000 Cell/ml)', 'Kick-off', 'Incompleto', 'Capezzoli non trovati',\n",
    "       'Mammella', 'Capezzolo', 'Utente', 'Destinazione latte',\n",
    "       'Mo1tivo separazione', 'Minuti', 'Secondi', 'MinutiTotali',\n",
    "       'Data', 'Tempo', 'Mese', 'Anno', 'Mese Anno']\n",
    "\n",
    "A=['Produzione (kg)','Flusso AS', 'Flusso AD', 'Flusso PS',\n",
    "       'Flusso PD', 'Sangue AS', 'Sangue AD', 'Sangue PS', 'Sangue PD',\n",
    "       'Conducibilità AS', 'Conducibilità AD', 'Conducibilità PS',\n",
    "       'Conducibilità PD', 'PicchiFlusso AS', 'PicchiFlusso AD',\n",
    "       'PicchiFlusso PS', 'PicchiFlusso PD', 'Produzione AS', 'Produzione AD',\n",
    "       'Produzione PS', 'Produzione PD', 'Kick-offPD',\n",
    "       'Kick-offAD', 'Kick-offPS', 'Kick-offAS', 'IncompletoPD',\n",
    "       'IncompletoAD', 'IncompletoPS', 'IncompletoAS',\n",
    "       'Capezzoli non trovatiPD', 'Capezzoli non trovatiAD',\n",
    "       'Capezzoli non trovatiPS', 'Capezzoli non trovatiAS', 'CapezzoloPD',\n",
    "       'CapezzoloAD', 'CapezzoloPS', 'CapezzoloAS','Numero animale', 'Numero mungitura',\n",
    "        'OCC(*1000 Cell/ml)', 'Mammella',\n",
    "       'Minuti', 'Secondi', 'Mese', 'Anno'\n",
    "]\n",
    "MO1_static1.drop(A,axis=1,inplace=True)\n",
    "MO1_static1.columns"
   ]
  },
  {
   "cell_type": "code",
   "execution_count": null,
   "metadata": {},
   "outputs": [],
   "source": [
    "TO_static=TO.groupby(\"Mese Anno\").sum()\n",
    "TO_static=TO_static.iloc[:-1,:]\n",
    "TO_static.drop(\"Decisione cancello\",axis=1,inplace=True)\n",
    "TO_static[\"Totale capezzoli non munti\"]= TO_static[\"PS\"]+TO_static[\"PD\"]+TO_static[\"AS\"]+TO_static[\"AD\"]\n",
    "TO_static[\"Tempo nell'area (h)\"]=TO_static[\"Ore\"]+(TO_static[\"Minuti\"]/60)\n",
    "TO_static[\"Tempo nell'area (h)\"]=TO_static[\"Tempo nell'area (h)\"].astype(\"int64\",)\n",
    "A=[\"Ore\",\"Minuti\"]\n",
    "TO_static['Somma animali']=(TO.groupby(\"Mese Anno\").count())['Numero animale']\n",
    "TO_static.drop(A,axis=1,inplace=True)"
   ]
  },
  {
   "cell_type": "markdown",
   "metadata": {},
   "source": [
    "# ATT"
   ]
  },
  {
   "cell_type": "code",
   "execution_count": null,
   "metadata": {},
   "outputs": [],
   "source": []
  },
  {
   "cell_type": "markdown",
   "metadata": {},
   "source": [
    "## Azione"
   ]
  },
  {
   "cell_type": "markdown",
   "metadata": {},
   "source": [
    "## Durata"
   ]
  },
  {
   "cell_type": "markdown",
   "metadata": {},
   "source": [
    "## Produzione"
   ]
  },
  {
   "cell_type": "markdown",
   "metadata": {},
   "source": [
    "## Numero di mungitura"
   ]
  },
  {
   "cell_type": "markdown",
   "metadata": {},
   "source": [
    "## Kick off"
   ]
  },
  {
   "cell_type": "markdown",
   "metadata": {},
   "source": [
    "## Capezzolo non trovato"
   ]
  },
  {
   "cell_type": "markdown",
   "metadata": {},
   "source": [
    "## Capezzolo"
   ]
  },
  {
   "cell_type": "markdown",
   "metadata": {},
   "source": [
    "## Flusso"
   ]
  },
  {
   "cell_type": "markdown",
   "metadata": {},
   "source": [
    "## Sangue"
   ]
  },
  {
   "cell_type": "markdown",
   "metadata": {},
   "source": [
    "## Conducibilita"
   ]
  },
  {
   "cell_type": "markdown",
   "metadata": {},
   "source": [
    "## Utente"
   ]
  },
  {
   "cell_type": "markdown",
   "metadata": {},
   "source": [
    "## Destinazione"
   ]
  },
  {
   "cell_type": "markdown",
   "metadata": {},
   "source": [
    "## Picchi flusso"
   ]
  },
  {
   "cell_type": "markdown",
   "metadata": {},
   "source": [
    "## Produzione"
   ]
  }
 ],
 "metadata": {
  "kernelspec": {
   "display_name": "Python 3.10.2 64-bit",
   "language": "python",
   "name": "python3"
  },
  "language_info": {
   "codemirror_mode": {
    "name": "ipython",
    "version": 3
   },
   "file_extension": ".py",
   "mimetype": "text/x-python",
   "name": "python",
   "nbconvert_exporter": "python",
   "pygments_lexer": "ipython3",
   "version": "3.10.2"
  },
  "orig_nbformat": 4,
  "vscode": {
   "interpreter": {
    "hash": "6128c8cfa2ca7e3fd8aaa929b74f216b5d7ba84a5d0706d887752bbc1d35f4c1"
   }
  }
 },
 "nbformat": 4,
 "nbformat_minor": 2
}
