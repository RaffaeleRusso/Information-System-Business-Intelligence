{
 "cells": [
  {
   "cell_type": "code",
   "execution_count": 1,
   "metadata": {},
   "outputs": [],
   "source": [
    "import pandas as pd\n",
    "import numpy as np\n",
    "from os import listdir\n",
    "from os import path\n",
    "from os.path import isfile, join\n",
    "import glob"
   ]
  },
  {
   "cell_type": "markdown",
   "metadata": {},
   "source": [
    "## Traffico animali\n",
    "Non ci sono problemi perche header è su una sola riga , facciamo il merge solamente"
   ]
  },
  {
   "cell_type": "code",
   "execution_count": 3,
   "metadata": {},
   "outputs": [],
   "source": [
    "mypath =\"dati robot/dati vecchio robot/traffico animale/\"\n",
    "files = [f for f in listdir(mypath) if isfile(join(mypath, f))]"
   ]
  },
  {
   "cell_type": "code",
   "execution_count": 4,
   "metadata": {},
   "outputs": [],
   "source": [
    "appended_data = []\n",
    "for file in files:\n",
    "    df = pd.read_csv(join(mypath,file),delimiter=\";\")\n",
    "    appended_data.append(df)\n",
    "appended_data = pd.concat(appended_data)\n"
   ]
  },
  {
   "cell_type": "code",
   "execution_count": 5,
   "metadata": {},
   "outputs": [],
   "source": [
    "appended_data.to_csv(\"traffico_animali_old.csv\",index=False)"
   ]
  },
  {
   "cell_type": "code",
   "execution_count": 6,
   "metadata": {},
   "outputs": [
    {
     "data": {
      "text/html": [
       "<div>\n",
       "<style scoped>\n",
       "    .dataframe tbody tr th:only-of-type {\n",
       "        vertical-align: middle;\n",
       "    }\n",
       "\n",
       "    .dataframe tbody tr th {\n",
       "        vertical-align: top;\n",
       "    }\n",
       "\n",
       "    .dataframe thead th {\n",
       "        text-align: right;\n",
       "    }\n",
       "</style>\n",
       "<table border=\"1\" class=\"dataframe\">\n",
       "  <thead>\n",
       "    <tr style=\"text-align: right;\">\n",
       "      <th></th>\n",
       "      <th>Decisione cancello</th>\n",
       "    </tr>\n",
       "  </thead>\n",
       "  <tbody>\n",
       "    <tr>\n",
       "      <th>count</th>\n",
       "      <td>0.0</td>\n",
       "    </tr>\n",
       "    <tr>\n",
       "      <th>mean</th>\n",
       "      <td>NaN</td>\n",
       "    </tr>\n",
       "    <tr>\n",
       "      <th>std</th>\n",
       "      <td>NaN</td>\n",
       "    </tr>\n",
       "    <tr>\n",
       "      <th>min</th>\n",
       "      <td>NaN</td>\n",
       "    </tr>\n",
       "    <tr>\n",
       "      <th>25%</th>\n",
       "      <td>NaN</td>\n",
       "    </tr>\n",
       "    <tr>\n",
       "      <th>50%</th>\n",
       "      <td>NaN</td>\n",
       "    </tr>\n",
       "    <tr>\n",
       "      <th>75%</th>\n",
       "      <td>NaN</td>\n",
       "    </tr>\n",
       "    <tr>\n",
       "      <th>max</th>\n",
       "      <td>NaN</td>\n",
       "    </tr>\n",
       "  </tbody>\n",
       "</table>\n",
       "</div>"
      ],
      "text/plain": [
       "       Decisione cancello\n",
       "count                 0.0\n",
       "mean                  NaN\n",
       "std                   NaN\n",
       "min                   NaN\n",
       "25%                   NaN\n",
       "50%                   NaN\n",
       "75%                   NaN\n",
       "max                   NaN"
      ]
     },
     "execution_count": 6,
     "metadata": {},
     "output_type": "execute_result"
    }
   ],
   "source": [
    "appended_data.describe()"
   ]
  },
  {
   "cell_type": "code",
   "execution_count": 7,
   "metadata": {},
   "outputs": [
    {
     "name": "stdout",
     "output_type": "stream",
     "text": [
      "<class 'pandas.core.frame.DataFrame'>\n",
      "Int64Index: 297052 entries, 0 to 56007\n",
      "Data columns (total 10 columns):\n",
      " #   Column                             Non-Null Count   Dtype  \n",
      "---  ------                             --------------   -----  \n",
      " 0   Numero animale                     297052 non-null  object \n",
      " 1   Nome gruppo                        297051 non-null  object \n",
      " 2   Data/Ora                           297051 non-null  object \n",
      " 3   Area precedente                    296113 non-null  object \n",
      " 4   Tempo nell'area (hh:mm)            297051 non-null  object \n",
      " 5   Nome dispositivo                   296867 non-null  object \n",
      " 6   Risultato                          297051 non-null  object \n",
      " 7   Decisione cancello                 0 non-null       float64\n",
      " 8   Intervallo Mungitura               145298 non-null  object \n",
      " 9   Capezzoli non completamente munti  9841 non-null    object \n",
      "dtypes: float64(1), object(9)\n",
      "memory usage: 24.9+ MB\n"
     ]
    }
   ],
   "source": [
    "appended_data.info()"
   ]
  },
  {
   "cell_type": "markdown",
   "metadata": {},
   "source": [
    "## Mungitura"
   ]
  },
  {
   "cell_type": "code",
   "execution_count": 17,
   "metadata": {},
   "outputs": [],
   "source": [
    "old_col = df.columns\n",
    "new_header = df.iloc[0] #grab the first row for the header\n",
    "df = df[1:] #take the data less the header row\n",
    "df.columns = new_header #set the header row as the df header"
   ]
  },
  {
   "cell_type": "code",
   "execution_count": 18,
   "metadata": {},
   "outputs": [],
   "source": [
    "new_columns = ['Ora inizio', 'Numero animale', 'Gruppo', 'MS/MP', 'Azione',\n",
    "       'Durata (MM:SS)', 'Produzione (kg)', 'Numero mungitura',\n",
    "       'OCC(*1000 Cell/ml)', 'Kick-off', 'Incompleto', 'Capezzoli non trovati',\n",
    "       'Mammella', 'Capezzolo', 'Flusso AS', 'Flusso AD', 'Flusso PS', 'Flusso PD', 'Sangue AS', 'Sangue AD', 'Sangue PS', 'Sangue PD',\n",
    "       'Conducibilità AS', 'Conducibilità AD', 'Conducibilità PS', 'Conducibilità PD', 'Utente', 'Destinazione latte',\n",
    "       'Motivo separazione', 'PicchiFlusso AS', 'PicchiFlusso AD', 'PicchiFlusso PS', 'PicchiFlusso PD', 'Produzione AS', 'Produzione AD', 'Produzione PS', 'Produzione PD']"
   ]
  },
  {
   "cell_type": "code",
   "execution_count": 19,
   "metadata": {},
   "outputs": [],
   "source": [
    "mypath =\"dati robot/dati vecchio robot/\"\n",
    "files = [f for f in listdir(mypath) if isfile(join(mypath, f))]"
   ]
  },
  {
   "cell_type": "code",
   "execution_count": 20,
   "metadata": {},
   "outputs": [],
   "source": [
    "appended_data = []\n",
    "for file in files:\n",
    "    df = pd.read_excel(join(mypath,file))\n",
    "    df = df[1:] #take the data less the header row\n",
    "    df.columns = new_columns #set the header row as the df header\n",
    "    appended_data.append(df)\n",
    "# see pd.concat documentation for more info\n",
    "appended_data = pd.concat(appended_data)"
   ]
  },
  {
   "cell_type": "code",
   "execution_count": 21,
   "metadata": {},
   "outputs": [],
   "source": [
    "# write DataFrame to a csv sheet \n",
    "appended_data.to_csv('Mungitura_old.csv',index=False)"
   ]
  },
  {
   "cell_type": "markdown",
   "metadata": {},
   "source": [
    "## Eventi"
   ]
  },
  {
   "cell_type": "code",
   "execution_count": 14,
   "metadata": {},
   "outputs": [],
   "source": [
    "x = pd.read_csv(\"MungituraEventi.csv\")"
   ]
  },
  {
   "cell_type": "code",
   "execution_count": 19,
   "metadata": {},
   "outputs": [],
   "source": [
    "x.to_csv(\"MungituraEventi.csv\",index=False)"
   ]
  }
 ],
 "metadata": {
  "kernelspec": {
   "display_name": "Python 3.10.8 64-bit",
   "language": "python",
   "name": "python3"
  },
  "language_info": {
   "codemirror_mode": {
    "name": "ipython",
    "version": 3
   },
   "file_extension": ".py",
   "mimetype": "text/x-python",
   "name": "python",
   "nbconvert_exporter": "python",
   "pygments_lexer": "ipython3",
   "version": "3.10.8"
  },
  "orig_nbformat": 4,
  "vscode": {
   "interpreter": {
    "hash": "6128c8cfa2ca7e3fd8aaa929b74f216b5d7ba84a5d0706d887752bbc1d35f4c1"
   }
  }
 },
 "nbformat": 4,
 "nbformat_minor": 2
}
