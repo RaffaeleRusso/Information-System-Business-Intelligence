{
 "cells": [
  {
   "cell_type": "code",
   "execution_count": 1,
   "metadata": {},
   "outputs": [],
   "source": [
    "import pandas as pd\n",
    "import numpy as np\n",
    "from os import listdir\n",
    "from os import path\n",
    "from os.path import isfile, join\n",
    "import glob"
   ]
  },
  {
   "cell_type": "markdown",
   "metadata": {},
   "source": [
    "## Traffico animali"
   ]
  },
  {
   "cell_type": "code",
   "execution_count": 2,
   "metadata": {},
   "outputs": [],
   "source": [
    "mypath =\"dati robot/dati robot nuovo/traffico animale/\"\n",
    "files = [f for f in listdir(mypath) if isfile(join(mypath, f))]"
   ]
  },
  {
   "cell_type": "code",
   "execution_count": 3,
   "metadata": {},
   "outputs": [
    {
     "name": "stderr",
     "output_type": "stream",
     "text": [
      "/var/folders/48/tzp62xjn58bb_nw1n30kx0sh0000gn/T/ipykernel_22006/3753285995.py:3: DtypeWarning: Columns (0,7) have mixed types. Specify dtype option on import or set low_memory=False.\n",
      "  df = pd.read_csv(join(mypath,file),delimiter=\";\")\n",
      "/var/folders/48/tzp62xjn58bb_nw1n30kx0sh0000gn/T/ipykernel_22006/3753285995.py:3: DtypeWarning: Columns (0) have mixed types. Specify dtype option on import or set low_memory=False.\n",
      "  df = pd.read_csv(join(mypath,file),delimiter=\";\")\n",
      "/var/folders/48/tzp62xjn58bb_nw1n30kx0sh0000gn/T/ipykernel_22006/3753285995.py:3: DtypeWarning: Columns (0) have mixed types. Specify dtype option on import or set low_memory=False.\n",
      "  df = pd.read_csv(join(mypath,file),delimiter=\";\")\n",
      "/var/folders/48/tzp62xjn58bb_nw1n30kx0sh0000gn/T/ipykernel_22006/3753285995.py:3: DtypeWarning: Columns (0) have mixed types. Specify dtype option on import or set low_memory=False.\n",
      "  df = pd.read_csv(join(mypath,file),delimiter=\";\")\n",
      "/var/folders/48/tzp62xjn58bb_nw1n30kx0sh0000gn/T/ipykernel_22006/3753285995.py:3: DtypeWarning: Columns (0,7) have mixed types. Specify dtype option on import or set low_memory=False.\n",
      "  df = pd.read_csv(join(mypath,file),delimiter=\";\")\n"
     ]
    }
   ],
   "source": [
    "appended_data = []\n",
    "for file in files:\n",
    "    df = pd.read_csv(join(mypath,file),delimiter=\";\")\n",
    "    appended_data.append(df)\n",
    "appended_data = pd.concat(appended_data)\n"
   ]
  },
  {
   "cell_type": "code",
   "execution_count": 4,
   "metadata": {},
   "outputs": [],
   "source": [
    "appended_data.to_csv(\"traffico_animali.csv\",index=False)"
   ]
  },
  {
   "cell_type": "code",
   "execution_count": 5,
   "metadata": {},
   "outputs": [
    {
     "data": {
      "text/html": [
       "<div>\n",
       "<style scoped>\n",
       "    .dataframe tbody tr th:only-of-type {\n",
       "        vertical-align: middle;\n",
       "    }\n",
       "\n",
       "    .dataframe tbody tr th {\n",
       "        vertical-align: top;\n",
       "    }\n",
       "\n",
       "    .dataframe thead th {\n",
       "        text-align: right;\n",
       "    }\n",
       "</style>\n",
       "<table border=\"1\" class=\"dataframe\">\n",
       "  <thead>\n",
       "    <tr style=\"text-align: right;\">\n",
       "      <th></th>\n",
       "      <th>Numero animale</th>\n",
       "      <th>Nome gruppo</th>\n",
       "      <th>Data/Ora</th>\n",
       "      <th>Area precedente</th>\n",
       "      <th>Tempo nell'area (hh:mm)</th>\n",
       "      <th>Nome dispositivo</th>\n",
       "      <th>Risultato</th>\n",
       "      <th>Decisione cancello</th>\n",
       "      <th>Intervallo Mungitura</th>\n",
       "      <th>Capezzoli non completamente munti</th>\n",
       "    </tr>\n",
       "  </thead>\n",
       "  <tbody>\n",
       "    <tr>\n",
       "      <th>count</th>\n",
       "      <td>872750</td>\n",
       "      <td>872742</td>\n",
       "      <td>872742</td>\n",
       "      <td>865907</td>\n",
       "      <td>872742</td>\n",
       "      <td>872613</td>\n",
       "      <td>872742</td>\n",
       "      <td>182020</td>\n",
       "      <td>260161</td>\n",
       "      <td>13862</td>\n",
       "    </tr>\n",
       "    <tr>\n",
       "      <th>unique</th>\n",
       "      <td>767</td>\n",
       "      <td>8</td>\n",
       "      <td>454470</td>\n",
       "      <td>21</td>\n",
       "      <td>1440</td>\n",
       "      <td>12</td>\n",
       "      <td>1581</td>\n",
       "      <td>13</td>\n",
       "      <td>2779</td>\n",
       "      <td>15</td>\n",
       "    </tr>\n",
       "    <tr>\n",
       "      <th>top</th>\n",
       "      <td>661</td>\n",
       "      <td>VMS 4</td>\n",
       "      <td>20/04/2022 14:27</td>\n",
       "      <td>MS1</td>\n",
       "      <td>00:00</td>\n",
       "      <td>MS1</td>\n",
       "      <td>Solo passaggio A MS1</td>\n",
       "      <td>Errore</td>\n",
       "      <td>08:16</td>\n",
       "      <td>PS,PD</td>\n",
       "    </tr>\n",
       "    <tr>\n",
       "      <th>freq</th>\n",
       "      <td>4625</td>\n",
       "      <td>200412</td>\n",
       "      <td>17</td>\n",
       "      <td>122113</td>\n",
       "      <td>64108</td>\n",
       "      <td>139217</td>\n",
       "      <td>68758</td>\n",
       "      <td>77314</td>\n",
       "      <td>940</td>\n",
       "      <td>4224</td>\n",
       "    </tr>\n",
       "  </tbody>\n",
       "</table>\n",
       "</div>"
      ],
      "text/plain": [
       "        Numero animale Nome gruppo          Data/Ora Area precedente  \\\n",
       "count           872750      872742            872742          865907   \n",
       "unique             767           8            454470              21   \n",
       "top                661       VMS 4  20/04/2022 14:27             MS1   \n",
       "freq              4625      200412                17          122113   \n",
       "\n",
       "       Tempo nell'area (hh:mm) Nome dispositivo             Risultato  \\\n",
       "count                   872742           872613                872742   \n",
       "unique                    1440               12                  1581   \n",
       "top                      00:00              MS1  Solo passaggio A MS1   \n",
       "freq                     64108           139217                 68758   \n",
       "\n",
       "       Decisione cancello Intervallo Mungitura  \\\n",
       "count              182020               260161   \n",
       "unique                 13                 2779   \n",
       "top                Errore                08:16   \n",
       "freq                77314                  940   \n",
       "\n",
       "       Capezzoli non completamente munti  \n",
       "count                              13862  \n",
       "unique                                15  \n",
       "top                                PS,PD  \n",
       "freq                                4224  "
      ]
     },
     "execution_count": 5,
     "metadata": {},
     "output_type": "execute_result"
    }
   ],
   "source": [
    "appended_data.describe()"
   ]
  },
  {
   "cell_type": "code",
   "execution_count": 6,
   "metadata": {},
   "outputs": [
    {
     "name": "stdout",
     "output_type": "stream",
     "text": [
      "<class 'pandas.core.frame.DataFrame'>\n",
      "Int64Index: 872750 entries, 0 to 64430\n",
      "Data columns (total 10 columns):\n",
      " #   Column                             Non-Null Count   Dtype \n",
      "---  ------                             --------------   ----- \n",
      " 0   Numero animale                     872750 non-null  object\n",
      " 1   Nome gruppo                        872742 non-null  object\n",
      " 2   Data/Ora                           872742 non-null  object\n",
      " 3   Area precedente                    865907 non-null  object\n",
      " 4   Tempo nell'area (hh:mm)            872742 non-null  object\n",
      " 5   Nome dispositivo                   872613 non-null  object\n",
      " 6   Risultato                          872742 non-null  object\n",
      " 7   Decisione cancello                 182020 non-null  object\n",
      " 8   Intervallo Mungitura               260161 non-null  object\n",
      " 9   Capezzoli non completamente munti  13862 non-null   object\n",
      "dtypes: object(10)\n",
      "memory usage: 73.2+ MB\n"
     ]
    }
   ],
   "source": [
    "appended_data.info()"
   ]
  },
  {
   "cell_type": "markdown",
   "metadata": {},
   "source": [
    "## Mungitura"
   ]
  },
  {
   "cell_type": "code",
   "execution_count": 7,
   "metadata": {},
   "outputs": [],
   "source": [
    "old_col = df.columns\n",
    "new_header = df.iloc[0] #grab the first row for the header\n",
    "df = df[1:] #take the data less the header row\n",
    "df.columns = new_header #set the header row as the df header"
   ]
  },
  {
   "cell_type": "code",
   "execution_count": 8,
   "metadata": {},
   "outputs": [],
   "source": [
    "new_columns = ['Ora inizio', 'Numero animale', 'Gruppo', 'MS/MP', 'Azione',\n",
    "       'Durata (MM:SS)', 'Produzione (kg)', 'Numero mungitura',\n",
    "       'OCC(*1000 Cell/ml)', 'Kick-off', 'Incompleto', 'Capezzoli non trovati',\n",
    "       'Mammella', 'Capezzolo', 'Flusso AS', 'Flusso AD', 'Flusso PS', 'Flusso PD', 'Sangue AS', 'Sangue AD', 'Sangue PS', 'Sangue PD',\n",
    "       'Conducibilità AS', 'Conducibilità AD', 'Conducibilità PS', 'Conducibilità PD', 'Utente', 'Destinazione latte',\n",
    "       'Motivo separazione', 'PicchiFlusso AS', 'PicchiFlusso AD', 'PicchiFlusso PS', 'PicchiFlusso PD', 'Produzione AS', 'Produzione AD', 'Produzione PS', 'Produzione PD']"
   ]
  },
  {
   "cell_type": "code",
   "execution_count": 9,
   "metadata": {},
   "outputs": [],
   "source": [
    "mypath =\"dati robot/dati robot nuovo/\"\n",
    "files = [f for f in listdir(mypath) if isfile(join(mypath, f))]"
   ]
  },
  {
   "cell_type": "code",
   "execution_count": 10,
   "metadata": {},
   "outputs": [],
   "source": [
    "appended_data = []\n",
    "for file in files:\n",
    "    df = pd.read_excel(join(mypath,file))\n",
    "    df = df[1:] #take the data less the header row\n",
    "    df.columns = new_columns #set the header row as the df header\n",
    "    appended_data.append(df)\n",
    "# see pd.concat documentation for more info\n",
    "appended_data = pd.concat(appended_data)"
   ]
  },
  {
   "cell_type": "code",
   "execution_count": 11,
   "metadata": {},
   "outputs": [],
   "source": [
    "# write DataFrame to a csv sheet \n",
    "appended_data.to_csv('Mungitura.csv',index=False)"
   ]
  },
  {
   "cell_type": "markdown",
   "metadata": {},
   "source": [
    "## Eventi"
   ]
  },
  {
   "cell_type": "code",
   "execution_count": 14,
   "metadata": {},
   "outputs": [],
   "source": [
    "x = pd.read_csv(\"MungituraEventi.csv\")"
   ]
  },
  {
   "cell_type": "code",
   "execution_count": 19,
   "metadata": {},
   "outputs": [],
   "source": [
    "x.to_csv(\"MungituraEventi.csv\",index=False)"
   ]
  }
 ],
 "metadata": {
  "kernelspec": {
   "display_name": "Python 3.10.4 ('bi_ia')",
   "language": "python",
   "name": "python3"
  },
  "language_info": {
   "codemirror_mode": {
    "name": "ipython",
    "version": 3
   },
   "file_extension": ".py",
   "mimetype": "text/x-python",
   "name": "python",
   "nbconvert_exporter": "python",
   "pygments_lexer": "ipython3",
   "version": "3.10.4"
  },
  "orig_nbformat": 4,
  "vscode": {
   "interpreter": {
    "hash": "bfd94e46e269c91f0755eb207405d1ab6a495e44f074c016d2b00d5967e47b13"
   }
  }
 },
 "nbformat": 4,
 "nbformat_minor": 2
}
