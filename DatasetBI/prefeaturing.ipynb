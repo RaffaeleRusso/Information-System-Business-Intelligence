{
 "cells": [
  {
   "cell_type": "code",
   "execution_count": 82,
   "metadata": {},
   "outputs": [],
   "source": [
    "import pandas as pd\n",
    "import numpy as np\n",
    "import plotly_express as px"
   ]
  },
  {
   "cell_type": "markdown",
   "metadata": {},
   "source": [
    "## Mungitura"
   ]
  },
  {
   "cell_type": "code",
   "execution_count": 83,
   "metadata": {},
   "outputs": [],
   "source": [
    "df = pd.read_csv(\"DatasetUniti/Mungitura_old.csv\")"
   ]
  },
  {
   "cell_type": "code",
   "execution_count": 84,
   "metadata": {},
   "outputs": [],
   "source": [
    "df[['Minuti', 'Secondi']] = df['Durata (MM:SS)'].str.split(':', 1, expand=True)\n",
    "df['Minuti'] = df['Minuti'].str.strip(\"0\")\n",
    "df['Secondi'] = df['Secondi'].str.strip(\"0\")\n",
    "df.loc[df[\"Minuti\"] == '',\"Minuti\"] = \"0\"\n",
    "df.loc[df[\"Secondi\"] == '',\"Secondi\"] = \"0\"\n",
    "df[\"MinutiTotali\"] = df[\"Minuti\"].astype(\"float\") + df[\"Secondi\"].astype(\"float\")/60\n",
    "mask = df[\"Ora inizio\"] == \"MANCANO I DATI DAL 17/04/2021 AL 12/02/2021 E NON SONO RECUPERABILI\"\n",
    "i = df[mask].index\n",
    "df.drop(i,inplace=True)\n",
    "df['Data'] = pd.to_datetime(df['Ora inizio']).dt.date\n",
    "df['Tempo'] = pd.to_datetime(df['Ora inizio']).dt.time\n",
    "df['Mese'] = pd.to_datetime(df['Ora inizio']).dt.month\n",
    "df['Anno'] = pd.to_datetime(df['Ora inizio']).dt.year\n",
    "df['Mese Anno'] = [str(x)[0:7] for x in df['Ora inizio']]"
   ]
  },
  {
   "cell_type": "code",
   "execution_count": 85,
   "metadata": {},
   "outputs": [],
   "source": [
    "columns = [\"Produzione (kg)\",\"Flusso AS\",\"Flusso AD\",\"Flusso PS\",\"Flusso PD\",\n",
    "           \"Sangue AS\",\"Sangue AD\",\"Sangue PS\",\"Sangue PD\",\n",
    "           \"Conducibilità AS\",\"Conducibilità AD\",\"Conducibilità PS\",\"Conducibilità PD\",\n",
    "           \"PicchiFlusso AS\",\"PicchiFlusso AD\",\"PicchiFlusso PS\",\"PicchiFlusso PD\",\n",
    "           'Produzione AS', 'Produzione AD','Produzione PS', 'Produzione PD'\n",
    "]\n",
    "df[\"Produzione PD\"].str.replace(\",\",\".\").astype(float)\n",
    "for column in columns:\n",
    "    df[column] = df[column].astype(str).str.replace(\",\",\".\")\n",
    "    df[column] = df[column].astype(float)"
   ]
  },
  {
   "cell_type": "code",
   "execution_count": 86,
   "metadata": {},
   "outputs": [],
   "source": [
    "basi = [\"Kick-off\",\"Incompleto\",\"Capezzoli non trovati\",\"Capezzolo\"]\n",
    "cats = [\"PD\",\"AD\",\"AS\",\"PS\",\"Tutto\"]\n",
    "for base in basi:\n",
    "    df[base+\"PD\"]=0\n",
    "    df[base+\"AD\"]=0\n",
    "    df[base+\"PS\"]=0\n",
    "    df[base+\"AS\"]=0\n",
    "    col = base\n",
    "    for _, i in df.iterrows():\n",
    "        if str(i[col]) != \"nan\":\n",
    "            #print(i[col]+\" \"+str(_))\n",
    "            if str(i[col]) == \"Tutto\":\n",
    "                #print(\"Tutto found \"+str(_))\n",
    "                df.loc[_,base+\"AD\"] = 1\n",
    "                df.loc[_,base+\"PD\"] = 1\n",
    "                df.loc[_,base+\"AS\"] = 1\n",
    "                df.loc[_,base+\"PS\"] = 1\n",
    "            else:\n",
    "                if str(i[base]).find(\"AD\") != -1:\n",
    "                    #print(\"AD found \"+str(_))\n",
    "                    df.loc[_,base+\"AD\"] = 1\n",
    "                if str(i[base]).find(\"PD\")!= -1:\n",
    "                    #print(\"PD found \"+str(_))\n",
    "                    df.loc[_,base+\"PD\"] = 1\n",
    "                if str(i[base]).find(\"PS\")!= -1:\n",
    "                    #print(\"PS found \"+str(_))\n",
    "                    df.loc[_,base+\"PS\"] = 1\n",
    "                if str(i[base]).find(\"AS\")!= -1:\n",
    "                    #print(\"AS found \"+str(_))\n",
    "                    df.loc[_,base+\"AD\"] = 1"
   ]
  },
  {
   "cell_type": "code",
   "execution_count": 87,
   "metadata": {},
   "outputs": [],
   "source": [
    "df.to_csv(\"DatasetProcessed/new_mungitura_old.csv\",index=False,sep=';',decimal=',')"
   ]
  },
  {
   "cell_type": "markdown",
   "metadata": {},
   "source": [
    "## Traffico"
   ]
  },
  {
   "cell_type": "code",
   "execution_count": 105,
   "metadata": {},
   "outputs": [
    {
     "name": "stderr",
     "output_type": "stream",
     "text": [
      "/var/folders/48/tzp62xjn58bb_nw1n30kx0sh0000gn/T/ipykernel_39504/1978675109.py:1: DtypeWarning: Columns (0) have mixed types. Specify dtype option on import or set low_memory=False.\n",
      "  df = pd.read_csv(\"DatasetUniti/traffico_animali_old.csv\")\n"
     ]
    }
   ],
   "source": [
    "df = pd.read_csv(\"DatasetUniti/traffico_animali_old.csv\")"
   ]
  },
  {
   "cell_type": "code",
   "execution_count": 106,
   "metadata": {},
   "outputs": [],
   "source": [
    "col = \"Tempo nell'area (hh:mm)\"\n",
    "\n",
    "df[['Ore', 'Minuti']] = df[col].str.split(':', 1, expand=True)\n",
    "df['Minuti'] = df['Minuti'].str.strip(\"0\")\n",
    "df['Ore'] = df['Ore'].str.strip(\"0\")\n",
    "df.loc[df[\"Minuti\"] == '',\"Minuti\"] = \"0\"\n",
    "df.loc[df[\"Ore\"] == '',\"Ore\"] = \"0\"\n",
    "df[\"OreTotali\"] = df[\"Ore\"].astype(\"float\") + df[\"Minuti\"].astype(\"float\")/60"
   ]
  },
  {
   "cell_type": "code",
   "execution_count": 107,
   "metadata": {},
   "outputs": [],
   "source": [
    "df['Data'] = pd.to_datetime(df['Data/Ora']).dt.date\n",
    "df['Tempo'] = pd.to_datetime(df['Data/Ora']).dt.time\n",
    "df['Mese'] = pd.to_datetime(df['Data/Ora']).dt.month\n",
    "df['Anno'] = pd.to_datetime(df['Data/Ora']).dt.year\n",
    "df['Mese Anno'] = [str(x)[0:7] for x in df['Data']]"
   ]
  },
  {
   "cell_type": "code",
   "execution_count": null,
   "metadata": {},
   "outputs": [],
   "source": [
    "mask = df[\"Risultato\"].str.contains(\"kg\",na=False)\n",
    "df[\"Risultato\"] = np.where(mask,df[\"Risultato\"].str.replace(\",\",\".\"),0)\n",
    "df['Risultato'] = df['Risultato'].str.extract('([0-9][,.]*[0-9]*)')\n",
    "df[\"Risultato\"] = df[\"Risultato\"].astype('float')"
   ]
  },
  {
   "cell_type": "code",
   "execution_count": 112,
   "metadata": {},
   "outputs": [],
   "source": [
    "cats = [\"PD\",\"AD\",\"AS\",\"PS\",\"Tutto\"]\n",
    "df[\"PD\"]=0\n",
    "df[\"AD\"]=0\n",
    "df[\"PS\"]=0\n",
    "df[\"AS\"]=0\n",
    "col = \"Capezzoli non completamente munti\"\n",
    "for _, i in df.iterrows():\n",
    "    if str(i[col]) != \"nan\":\n",
    "        #print(i[col]+\" \"+str(_))\n",
    "        if str(i[col]) == \"Tutto\":\n",
    "            #print(\"Tutto found \"+str(_))\n",
    "            df.loc[_,\"AD\"] = 1\n",
    "            df.loc[_,\"PD\"] = 1\n",
    "            df.loc[_,\"AS\"] = 1\n",
    "            df.loc[_,\"PS\"] = 1\n",
    "        else:\n",
    "            if str(i[\"Capezzoli non completamente munti\"]).find(\"AD\") != -1:\n",
    "                #print(\"AD found \"+str(_))\n",
    "                df.loc[_,\"AD\"] = 1\n",
    "            if str(i[\"Capezzoli non completamente munti\"]).find(\"PD\")!= -1:\n",
    "                #print(\"PD found \"+str(_))\n",
    "                df.loc[_,\"PD\"] = 1\n",
    "            if str(i[\"Capezzoli non completamente munti\"]).find(\"PS\")!= -1:\n",
    "                #print(\"PS found \"+str(_))\n",
    "                df.loc[_,\"PS\"] = 1\n",
    "            if str(i[\"Capezzoli non completamente munti\"]).find(\"AS\")!= -1:\n",
    "                #print(\"AS found \"+str(_))\n",
    "                df.loc[_,\"AD\"] = 1"
   ]
  },
  {
   "cell_type": "code",
   "execution_count": 113,
   "metadata": {},
   "outputs": [],
   "source": [
    "df.to_csv(\"DatasetProcessed/new_traffico_animali_old.csv\",index=False,sep=';',decimal=',')"
   ]
  },
  {
   "cell_type": "markdown",
   "metadata": {},
   "source": [
    "## Mungitura eventi"
   ]
  },
  {
   "cell_type": "code",
   "execution_count": 118,
   "metadata": {},
   "outputs": [],
   "source": [
    "mungitura_eventi = pd.read_excel(\"DatasetUniti/Tutti gli eventi vecchio VMS.xls\")"
   ]
  },
  {
   "cell_type": "code",
   "execution_count": 120,
   "metadata": {},
   "outputs": [],
   "source": [
    "mungitura_eventi['Data'] = pd.to_datetime(mungitura_eventi['Data evento']).dt.date\n",
    "mungitura_eventi['Tempo'] = pd.to_datetime(mungitura_eventi['Data evento']).dt.time\n",
    "mungitura_eventi['Mese'] = pd.to_datetime(mungitura_eventi['Data evento']).dt.month\n",
    "mungitura_eventi['Anno'] = pd.to_datetime(mungitura_eventi['Data evento']).dt.year\n",
    "mungitura_eventi['Mese Anno'] = [str(x)[0:7] for x in mungitura_eventi['Data']]"
   ]
  },
  {
   "cell_type": "code",
   "execution_count": 118,
   "metadata": {},
   "outputs": [],
   "source": [
    "#mungitura_eventi[\"id\"] = range(mungitura_eventi.shape[0])"
   ]
  },
  {
   "cell_type": "code",
   "execution_count": 119,
   "metadata": {},
   "outputs": [],
   "source": [
    "#mungitura_eventi[\"count\"] = mungitura_eventi.groupby([\"Mese Anno\"])[\"id\"].transform(\"count\")"
   ]
  },
  {
   "cell_type": "code",
   "execution_count": 121,
   "metadata": {},
   "outputs": [],
   "source": [
    "mungitura_eventi.to_csv(\"DatasetProcessed/new_mungitura_eventi_old.csv\",index=False,sep=';',decimal=',')"
   ]
  }
 ],
 "metadata": {
  "kernelspec": {
   "display_name": "Python 3.10.4 ('bi_ia')",
   "language": "python",
   "name": "python3"
  },
  "language_info": {
   "codemirror_mode": {
    "name": "ipython",
    "version": 3
   },
   "file_extension": ".py",
   "mimetype": "text/x-python",
   "name": "python",
   "nbconvert_exporter": "python",
   "pygments_lexer": "ipython3",
   "version": "3.10.4"
  },
  "orig_nbformat": 4,
  "vscode": {
   "interpreter": {
    "hash": "bfd94e46e269c91f0755eb207405d1ab6a495e44f074c016d2b00d5967e47b13"
   }
  }
 },
 "nbformat": 4,
 "nbformat_minor": 2
}
